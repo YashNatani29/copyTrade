{
 "cells": [
  {
   "cell_type": "code",
   "execution_count": 1,
   "id": "f379c233-6220-4c04-b48c-fabd34929031",
   "metadata": {},
   "outputs": [],
   "source": [
    "from SmartApi import SmartConnect #or from SmartApi.smartConnect import SmartConnect\n",
    "import pyotp\n",
    "from logzero import logger"
   ]
  },
  {
   "cell_type": "code",
   "execution_count": 32,
   "id": "dc174dcb-e0af-41b2-ace4-acdf61078176",
   "metadata": {},
   "outputs": [],
   "source": [
    "# Base User class\n",
    "class User:\n",
    "    def __init__(self, name, broker, **kwargs):\n",
    "\n",
    "        # The User class initializes with name, broker, and other attributes that vary depending on the broker.\n",
    "\n",
    "        self.name = name\n",
    "        self.broker = broker\n",
    "\n",
    "        # Set dynamic attributes based on the broker\n",
    "        self.username = kwargs.get(\"username\", None)\n",
    "        self.api_key = kwargs.get(\"api_key\", None)\n",
    "        self.pwd = kwargs.get(\"pwd\", None)\n",
    "        self.totp_token = kwargs.get(\"totp_token\", None)\n",
    "        self.api_obj = None  # Placeholder for api obj\n",
    "        self.auth_token = None  # Placeholder for login access token\n",
    "        self.refresh_token = None  # Placeholder for login refresh token\n",
    "        self.feed_token = None  # Placeholder for login feed token\n",
    "\n",
    "        # Call the login method automatically when the object is created\n",
    "        print(self.user_login())\n",
    "\n",
    "    def get_user_info(self):\n",
    "\n",
    "        # Returns the user information in a formatted string.\n",
    "        return f\"Name: {self.name}, Broker: {self.broker}, Username: {self.username},\"\n",
    "\n",
    "\n",
    "    def user_login(self):\n",
    "\n",
    "        # Simulates user login and generates an access token.\n",
    "\n",
    "        print(f\"Logging in {self.username} to {self.broker}...\")\n",
    "\n",
    "        if self.broker == \"AngelOne\":\n",
    "            return self._login_angel_one()\n",
    "        elif self.broker == \"OtherBroker\":\n",
    "            return self._login_other_broker()\n",
    "        else:\n",
    "            return \"Unsupported broker. Please provide valid credentials.\"\n",
    "\n",
    "    def _login_angel_one(self):\n",
    "\n",
    "        # Login using Angel One's SmartAPI.\n",
    "\n",
    "        try:\n",
    "            token = self.totp_token\n",
    "            totp = pyotp.TOTP(token).now()\n",
    "        except Exception as e:\n",
    "            logger.error(\"Invalid Token: The provided token is not valid.\")\n",
    "            raise e\n",
    "\n",
    "        try:\n",
    "            # SmartAPI login for Angel One\n",
    "            self.api_obj = SmartConnect(api_key=self.api_key)\n",
    "\n",
    "            data = self.api_obj.generateSession(self.username, self.pwd, totp)\n",
    "\n",
    "            self.auth_token = data['data']['jwtToken']          # Store access token\n",
    "            self.refresh_token = data['data']['refreshToken']   # Store refresh_token\n",
    "            self.feed_token = self.api_obj.getfeedToken()       # Store Feed token\n",
    "\n",
    "            return f\"Login {self.api_obj.getProfile(self.refresh_token)[\"message\"]}\"\n",
    "\n",
    "        except Exception as e:\n",
    "            return f\"Angel One login failed: {str(e)}\"\n",
    "\n",
    "    def _login_other_broker(self):\n",
    "        \"\"\"\n",
    "        Placeholder login function for other brokers.\n",
    "        \"\"\"\n",
    "\n",
    "    def place_order(self, order_details):\n",
    "        \"\"\"\n",
    "        Simulates placing an order.\n",
    "        \"\"\"\n",
    "\n",
    "\n",
    "\n",
    "# Parent User class with broker-specific attributes and children management\n",
    "class ParentUser(User):\n",
    "    def __init__(self, name, broker, **kwargs):\n",
    "\n",
    "        # ParentUser class inherits from User and can manage child users.\n",
    "\n",
    "        super().__init__(name, broker, **kwargs)\n",
    "        self.children = []\n",
    "\n",
    "    def add_child(self, child):\n",
    "\n",
    "        # Adds a ChildUser to the ParentUser's list of children.\n",
    "\n",
    "        self.children.append(child)\n",
    "\n",
    "    def list_children(self):\n",
    "\n",
    "        # Returns a list of the usernames of all children under the ParentUser.\n",
    "\n",
    "        return [child.name for child in self.children]\n",
    "\n",
    "    def place_order_for_child(self, order_details):\n",
    "         # Places an order for all children.\n",
    "        for child in self.children:\n",
    "            child_order_result = child.place_order(order_details)\n",
    "            print(f\"Child Order: {child_order_result}\")\n",
    "\n",
    "    def place_order_for_all(self, order_details):\n",
    "\n",
    "        # Places an order for both the parent and all children.\n",
    "\n",
    "        parent_order_result = self.place_order(order_details)\n",
    "        print(parent_order_result)\n",
    "        self.place_order_for_child(order_details)\n",
    "\n",
    "\n",
    "\n",
    "# Child User class (must be linked to a ParentUser)\n",
    "class ChildUser(User):\n",
    "    def __init__(self, name, broker, parent, **kwargs):\n",
    "\n",
    "        # ChildUser class inherits from User and is linked to a ParentUser.\n",
    "\n",
    "        super().__init__(name, broker, **kwargs)\n",
    "        self.parent = parent\n",
    "        parent.add_child(self)  # Automatically add the child to the parent's list\n",
    "\n",
    "    def get_parent_info(self):\n",
    "\n",
    "        # Returns the parent user's information.\n",
    "\n",
    "        return f\"Parent Name: {self.parent.name}, Parent Broker: {self.parent.broker}\"\n",
    "\n"
   ]
  },
  {
   "cell_type": "code",
   "execution_count": 29,
   "id": "fabc2e41",
   "metadata": {},
   "outputs": [
    {
     "name": "stdout",
     "output_type": "stream",
     "text": [
      "Logging in Y58983127 to AngelOne...\n"
     ]
    },
    {
     "name": "stderr",
     "output_type": "stream",
     "text": [
      "[I 241017 04:04:08 smartConnect:121] in pool\n"
     ]
    },
    {
     "name": "stdout",
     "output_type": "stream",
     "text": [
      "Login SUCCESS\n"
     ]
    }
   ],
   "source": [
    "# Example Usage\n",
    "# Creating a ParentUser with custom attributes based on the broker\n",
    "parent = ParentUser(name=\"Yash\",\n",
    "                    broker=\"AngelOne\",\n",
    "                    api_key = 'bE7ipU6q',\n",
    "                    username = 'Y58983127',\n",
    "                    pwd = '1416',\n",
    "                    totp_token = \"NQST6OLTU6MP3PKRH2BLXUTGDI\")"
   ]
  },
  {
   "cell_type": "code",
   "execution_count": 30,
   "id": "521072c6",
   "metadata": {},
   "outputs": [
    {
     "name": "stdout",
     "output_type": "stream",
     "text": [
      "Logging in R947822 to AngelOne...\n"
     ]
    },
    {
     "name": "stderr",
     "output_type": "stream",
     "text": [
      "[I 241017 04:04:13 smartConnect:121] in pool\n"
     ]
    },
    {
     "name": "stdout",
     "output_type": "stream",
     "text": [
      "Login SUCCESS\n"
     ]
    }
   ],
   "source": [
    "# Creating ChildUser instances and linking them to the parent\n",
    "child1 = ChildUser( name=\"Ravi\",\n",
    "                    broker=\"AngelOne\",\n",
    "                    parent=parent,\n",
    "                    api_key = 'eskMiA2H',\n",
    "                    username = 'R947822',\n",
    "                    pwd = '1234',\n",
    "                    totp_token = \"E4FCOCHUNVRDG7ANFXK6D3OQVA\")"
   ]
  },
  {
   "cell_type": "code",
   "execution_count": 31,
   "id": "567155c5",
   "metadata": {},
   "outputs": [
    {
     "name": "stdout",
     "output_type": "stream",
     "text": [
      "Parent Name: Yash, Parent Broker: AngelOne\n",
      "['R947822']\n"
     ]
    }
   ],
   "source": [
    "# Print user info\n",
    "print(child1.get_parent_info())       # Parent user information\n",
    "print(parent.list_children())         # Children user information"
   ]
  },
  {
   "cell_type": "code",
   "execution_count": 34,
   "id": "322407d0",
   "metadata": {},
   "outputs": [
    {
     "data": {
      "text/plain": [
       "{'status': True,\n",
       " 'message': 'SUCCESS',\n",
       " 'errorcode': '',\n",
       " 'data': 'Logout Successfully'}"
      ]
     },
     "execution_count": 34,
     "metadata": {},
     "output_type": "execute_result"
    }
   ],
   "source": [
    "# terminating Session\n",
    "parent.api_obj.terminateSession('Y58983127')\n",
    "child1.api_obj.terminateSession('R947822')"
   ]
  },
  {
   "cell_type": "code",
   "execution_count": null,
   "id": "a1b79e1c",
   "metadata": {},
   "outputs": [],
   "source": [
    "# Placing an order for both parent and children\n",
    "parent.place_order_for_all(order_details={\"symbol\": \"AAPL\", \"qty\": 10, \"action\": \"buy\"})"
   ]
  }
 ],
 "metadata": {
  "kernelspec": {
   "display_name": "Python 3",
   "language": "python",
   "name": "python3"
  },
  "language_info": {
   "codemirror_mode": {
    "name": "ipython",
    "version": 3
   },
   "file_extension": ".py",
   "mimetype": "text/x-python",
   "name": "python",
   "nbconvert_exporter": "python",
   "pygments_lexer": "ipython3",
   "version": "3.12.3"
  }
 },
 "nbformat": 4,
 "nbformat_minor": 5
}
