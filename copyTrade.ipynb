{
 "cells": [
  {
   "cell_type": "code",
   "execution_count": 1,
   "id": "f379c233-6220-4c04-b48c-fabd34929031",
   "metadata": {},
   "outputs": [],
   "source": [
    "from SmartApi import SmartConnect #or from SmartApi.smartConnect import SmartConnect\n",
    "import pyotp\n",
    "from logzero import logger"
   ]
  },
  {
   "cell_type": "code",
   "execution_count": 3,
   "id": "dc174dcb-e0af-41b2-ace4-acdf61078176",
   "metadata": {},
   "outputs": [],
   "source": [
    "# Base User class\n",
    "class User:\n",
    "    def __init__(self, name, broker, **kwargs):\n",
    "\n",
    "        # The User class initializes with name, broker, and other attributes that vary depending on the broker.\n",
    "\n",
    "        self.name = name\n",
    "        self.broker = broker\n",
    "\n",
    "        # Set dynamic attributes based on the broker\n",
    "        self.username = kwargs.get(\"username\", None)\n",
    "        self.api_key = kwargs.get(\"api_key\", None)\n",
    "        self.pwd = kwargs.get(\"pwd\", None)\n",
    "        self.totp_token = kwargs.get(\"totp_token\", None)\n",
    "        self.api_obj = None  # Placeholder for api obj\n",
    "        self.auth_token = None  # Placeholder for login access token\n",
    "        self.refresh_token = None  # Placeholder for login refresh token\n",
    "        self.feed_token = None  # Placeholder for login feed token\n",
    "\n",
    "        # Call the login method automatically when the object is created\n",
    "        print(self.user_login())\n",
    "\n",
    "    def get_user_info(self):\n",
    "\n",
    "        # Returns the user information in a formatted string.\n",
    "        return f\"Name: {self.name}, Broker: {self.broker}, Username: {self.username},\"\n",
    "\n",
    " # Login Functions\n",
    "    def user_login(self):\n",
    "\n",
    "        print(f\"Logging in {self.username} to {self.broker}...\")\n",
    "\n",
    "        # Handling Multiple Brokers\n",
    "\n",
    "        if self.broker == \"AngelOne\":\n",
    "            return self._login_angel_one()\n",
    "        elif self.broker == \"OtherBroker\":\n",
    "            return self._login_other_broker()\n",
    "        else:\n",
    "            return \"Unsupported broker. Please provide valid credentials.\"\n",
    "\n",
    "    def _login_angel_one(self):\n",
    "\n",
    "        # Login using Angel One's SmartAPI and generates an access token.\n",
    "\n",
    "        try:\n",
    "            token = self.totp_token\n",
    "            totp = pyotp.TOTP(token).now()\n",
    "        except Exception as e:\n",
    "            logger.error(\"Invalid Token: The provided token is not valid.\")\n",
    "            raise e\n",
    "\n",
    "        try:\n",
    "            # SmartAPI login for Angel One\n",
    "            self.api_obj = SmartConnect(api_key=self.api_key)\n",
    "\n",
    "            data = self.api_obj.generateSession(self.username, self.pwd, totp)\n",
    "\n",
    "            self.auth_token = data['data']['jwtToken']          # Store access token\n",
    "            self.refresh_token = data['data']['refreshToken']   # Store refresh_token\n",
    "            self.feed_token = self.api_obj.getfeedToken()       # Store Feed token\n",
    "\n",
    "            return f\"Login {self.api_obj.getProfile(self.refresh_token)[\"message\"]}\"\n",
    "\n",
    "        except Exception as e:\n",
    "            return f\"Angel One login failed: {str(e)}\"\n",
    "\n",
    "    def _login_other_broker(self):\n",
    "        \"\"\"\n",
    "        Placeholder login function for other brokers.\n",
    "        \"\"\"\n",
    "\n",
    " # Logout Functions\n",
    "    def user_logout(self):\n",
    "\n",
    "        # Simulates user logout\n",
    "\n",
    "        print(f\"Logging out {self.name} to {self.broker}...\")\n",
    "\n",
    "        if self.broker == \"AngelOne\":\n",
    "            return self._logout_angel_one()\n",
    "        elif self.broker == \"OtherBroker\":\n",
    "            return self._logout_other_broker()\n",
    "        else:\n",
    "            return \"Logout Failed.\"\n",
    "\n",
    "    def _logout_angel_one(self):\n",
    "\n",
    "        # Logout using Angel One's SmartAPI.\n",
    "\n",
    "        try:\n",
    "            # SmartAPI logout for Angel One\n",
    "            res = self.api_obj.terminateSession(self.username)\n",
    "\n",
    "            self.auth_token = None       # Reset access token\n",
    "            self.refresh_token = None    # Reset refresh_token\n",
    "            self.feed_token = None       # Reset Feed token\n",
    "\n",
    "            return f\"{res[\"data\"]}\"\n",
    "\n",
    "        except Exception as e:\n",
    "            return f\"Angel One logout failed: {str(e)}\"\n",
    "\n",
    "    def _logout_other_broker(self):\n",
    "        \"\"\"\n",
    "        Placeholder logout function for other brokers.\n",
    "        \"\"\"\n",
    "\n",
    " # Order Placing function\n",
    "\n",
    "    def place_order(self, order_details):\n",
    "\n",
    "        #  Handling Multiple Brokers\n",
    "\n",
    "        if self.broker == \"AngelOne\":\n",
    "            return self._place_order_angel_one(order_details)\n",
    "        elif self.broker == \"OtherBroker\":\n",
    "            return self._place_order_other_broker(order_details)\n",
    "        else:\n",
    "            return \"Unsupported broker.\"\n",
    "\n",
    "    def _place_order_angel_one(self, order_details):\n",
    "        # placing order using Angel One's SmartAPI\n",
    "        try:\n",
    "            # # Method 1: Place an order and return the order ID\n",
    "            # res = self.api_obj.placeOrder(order_details)\n",
    "\n",
    "            # Method 2: Place an order and return the full response\n",
    "            res = self.api_obj.placeOrderFullResponse(order_details)\n",
    "\n",
    "            return f\"PlaceOrder : {res}\"\n",
    "\n",
    "        except Exception as e:\n",
    "            return f\"Order placement failed: {e}\"\n",
    "\n",
    "    def _place_order_other_broker(self, order_details):\n",
    "        \"\"\"\n",
    "        Placeholder order function for other brokers.\n",
    "        \"\"\"\n",
    "\n",
    "# Parent User class with broker-specific attributes and children management\n",
    "class ParentUser(User):\n",
    "    def __init__(self, name, broker, **kwargs):\n",
    "\n",
    "        # ParentUser class inherits from User and can manage child users.\n",
    "\n",
    "        super().__init__(name, broker, **kwargs)\n",
    "        self.children = []\n",
    "\n",
    "    def add_child(self, child):\n",
    "\n",
    "        # Adds a ChildUser to the ParentUser's list of children.\n",
    "\n",
    "        self.children.append(child)\n",
    "\n",
    "    def list_children(self):\n",
    "\n",
    "        # Returns a list of the usernames of all children under the ParentUser.\n",
    "\n",
    "        return [child.name for child in self.children]\n",
    "\n",
    "    def place_order_for_child(self, order_details):\n",
    "         # Places an order for all children.\n",
    "        for child in self.children:\n",
    "            child_order_result = child.place_order(order_details)\n",
    "            print(f\"Child Order: {child_order_result}\")\n",
    "\n",
    "    def place_order_for_all(self, order_details):\n",
    "\n",
    "        # Places an order for both the parent and all children.\n",
    "\n",
    "        parent_order_result = self.place_order(order_details)\n",
    "        print(parent_order_result)\n",
    "        self.place_order_for_child(order_details)\n",
    "\n",
    "# Child User class (must be linked to a ParentUser)\n",
    "class ChildUser(User):\n",
    "    def __init__(self, name, broker, parent, **kwargs):\n",
    "\n",
    "        # ChildUser class inherits from User and is linked to a ParentUser.\n",
    "\n",
    "        super().__init__(name, broker, **kwargs)\n",
    "        self.parent = parent\n",
    "        parent.add_child(self)  # Automatically add the child to the parent's list\n",
    "\n",
    "    def get_parent_info(self):\n",
    "\n",
    "        # Returns the parent user's information.\n",
    "\n",
    "        return f\"Parent Name: {self.parent.name}, Parent Broker: {self.parent.broker}\"\n"
   ]
  },
  {
   "cell_type": "code",
   "execution_count": 4,
   "id": "fabc2e41",
   "metadata": {},
   "outputs": [
    {
     "name": "stdout",
     "output_type": "stream",
     "text": [
      "Logging in Y58983127 to AngelOne...\n"
     ]
    },
    {
     "name": "stderr",
     "output_type": "stream",
     "text": [
      "[I 241019 03:03:18 smartConnect:121] in pool\n"
     ]
    },
    {
     "name": "stdout",
     "output_type": "stream",
     "text": [
      "Login SUCCESS\n"
     ]
    }
   ],
   "source": [
    "# Example Usage\n",
    "# Creating a ParentUser with custom attributes based on the broker\n",
    "parent = ParentUser(name=\"Yash\",\n",
    "                    broker=\"AngelOne\",\n",
    "                    api_key = 'bE7ipU6q',\n",
    "                    username = 'Y58983127',\n",
    "                    pwd = '1416',\n",
    "                    totp_token = \"NQST6OLTU6MP3PKRH2BLXUTGDI\")"
   ]
  },
  {
   "cell_type": "code",
   "execution_count": 5,
   "id": "521072c6",
   "metadata": {},
   "outputs": [
    {
     "name": "stdout",
     "output_type": "stream",
     "text": [
      "Logging in R947822 to AngelOne...\n"
     ]
    },
    {
     "name": "stderr",
     "output_type": "stream",
     "text": [
      "[I 241019 03:03:27 smartConnect:121] in pool\n"
     ]
    },
    {
     "name": "stdout",
     "output_type": "stream",
     "text": [
      "Login SUCCESS\n"
     ]
    }
   ],
   "source": [
    "# Creating ChildUser instances and linking them to the parent\n",
    "child1 = ChildUser( name=\"Ravi\",\n",
    "                    broker=\"AngelOne\",\n",
    "                    parent=parent,\n",
    "                    api_key = 'eskMiA2H',\n",
    "                    username = 'R947822',\n",
    "                    pwd = '1234',\n",
    "                    totp_token = \"E4FCOCHUNVRDG7ANFXK6D3OQVA\")"
   ]
  },
  {
   "cell_type": "code",
   "execution_count": 6,
   "id": "567155c5",
   "metadata": {},
   "outputs": [
    {
     "name": "stdout",
     "output_type": "stream",
     "text": [
      "Parent Name: Yash, Parent Broker: AngelOne\n",
      "['Ravi']\n"
     ]
    }
   ],
   "source": [
    "# Print user info\n",
    "print(child1.get_parent_info())       # Parent user information\n",
    "print(parent.list_children())         # Children user information"
   ]
  },
  {
   "cell_type": "code",
   "execution_count": null,
   "id": "a1b79e1c",
   "metadata": {},
   "outputs": [],
   "source": [
    "# Placing an order for both parent and children\n",
    "parent.place_order_for_all(order_details={\"symbol\": \"AAPL\", \"qty\": 10, \"action\": \"buy\"})"
   ]
  },
  {
   "cell_type": "code",
   "execution_count": 7,
   "id": "0cfd1ad0",
   "metadata": {},
   "outputs": [
    {
     "data": {
      "text/plain": [
       "\"PlaceOrder : {'status': True, 'message': 'SUCCESS', 'errorcode': '', 'data': {'script': 'SBIN-EQ', 'orderid': '241019100000156', 'uniqueorderid': 'faffcbe7-43ed-443a-a9ff-ad4c47625783'}}\""
      ]
     },
     "execution_count": 7,
     "metadata": {},
     "output_type": "execute_result"
    }
   ],
   "source": [
    "order_details = {\n",
    "                \"variety\": \"NORMAL\",\n",
    "                \"tradingsymbol\": \"SBIN-EQ\",\n",
    "                \"symboltoken\": \"3045\",\n",
    "                \"transactiontype\": \"BUY\",\n",
    "                \"exchange\": \"NSE\",\n",
    "                \"ordertype\": \"MARKET\",\n",
    "                \"producttype\": \"INTRADAY\",\n",
    "                \"duration\": \"DAY\",\n",
    "                \"price\": \"0\",\n",
    "                \"squareoff\": \"0\",\n",
    "                \"stoploss\": \"0\",\n",
    "                \"quantity\": \"1\"\n",
    "                }\n",
    "\n",
    "parent.place_order(order_details=order_details)"
   ]
  },
  {
   "cell_type": "code",
   "execution_count": null,
   "id": "fac77e0d",
   "metadata": {},
   "outputs": [
    {
     "name": "stderr",
     "output_type": "stream",
     "text": [
      "[E 241019 03:12:08 smartConnect:243] Error occurred while making a POST request to https://apiconnect.angelbroking.com/rest/secure/angelbroking/order/v1/cancelOrder. Error: OrderId not found. URL: https://apiconnect.angelbroking.com/rest/secure/angelbroking/order/v1/cancelOrder, Headers: {'Content-type': 'application/json', 'X-ClientLocalIP': '127.0.0.1', 'X-ClientPublicIP': '106.193.147.98', 'X-MACAddress': '1c:4d:70:be:5e:50', 'Accept': 'application/json', 'X-PrivateKey': 'bE7ipU6q', 'X-UserType': 'USER', 'X-SourceID': 'WEB'}, Request: {'variety': 'NORMAL', 'orderid': 'faffcbe7-43ed-443a-a9ff-ad4c47625783'}, Response: {'message': 'OrderId not found', 'errorcode': 'AB3001', 'status': False, 'data': None}\n"
     ]
    },
    {
     "data": {
      "text/plain": [
       "{'message': 'OrderId not found',\n",
       " 'errorcode': 'AB3001',\n",
       " 'status': False,\n",
       " 'data': None}"
      ]
     },
     "execution_count": 11,
     "metadata": {},
     "output_type": "execute_result"
    }
   ],
   "source": [
    "parent.api_obj.cancelOrder('241019100000156','NORMAL')"
   ]
  },
  {
   "cell_type": "code",
   "execution_count": 10,
   "id": "69797cb6",
   "metadata": {},
   "outputs": [
    {
     "data": {
      "text/plain": [
       "{'status': True,\n",
       " 'message': 'SUCCESS',\n",
       " 'errorcode': '',\n",
       " 'data': {'variety': 'NORMAL',\n",
       "  'ordertype': 'MARKET',\n",
       "  'producttype': 'INTRADAY',\n",
       "  'duration': 'DAY',\n",
       "  'price': 0.0,\n",
       "  'triggerprice': 0.0,\n",
       "  'quantity': '1',\n",
       "  'disclosedquantity': '0',\n",
       "  'squareoff': 0.0,\n",
       "  'stoploss': 0.0,\n",
       "  'trailingstoploss': 0.0,\n",
       "  'tradingsymbol': 'SBIN-EQ',\n",
       "  'transactiontype': 'BUY',\n",
       "  'exchange': 'NSE',\n",
       "  'symboltoken': '3045',\n",
       "  'instrumenttype': '',\n",
       "  'strikeprice': -1.0,\n",
       "  'optiontype': '',\n",
       "  'expirydate': '',\n",
       "  'lotsize': '1',\n",
       "  'cancelsize': '0',\n",
       "  'averageprice': 0.0,\n",
       "  'filledshares': '0',\n",
       "  'unfilledshares': '1',\n",
       "  'orderid': '',\n",
       "  'text': '',\n",
       "  'status': 'open',\n",
       "  'orderstatus': 'open',\n",
       "  'updatetime': '',\n",
       "  'exchtime': '',\n",
       "  'exchorderupdatetime': '',\n",
       "  'fillid': '',\n",
       "  'filltime': '',\n",
       "  'parentorderid': '',\n",
       "  'ordertag': '',\n",
       "  'uniqueorderid': 'faffcbe7-43ed-443a-a9ff-ad4c47625783'}}"
      ]
     },
     "execution_count": 10,
     "metadata": {},
     "output_type": "execute_result"
    }
   ],
   "source": [
    "parent.api_obj.individual_order_details('faffcbe7-43ed-443a-a9ff-ad4c47625783')"
   ]
  },
  {
   "cell_type": "code",
   "execution_count": 12,
   "id": "131d805f",
   "metadata": {},
   "outputs": [
    {
     "name": "stdout",
     "output_type": "stream",
     "text": [
      "Logging out Yash to AngelOne...\n"
     ]
    },
    {
     "data": {
      "text/plain": [
       "'Logout Successfully'"
      ]
     },
     "execution_count": 12,
     "metadata": {},
     "output_type": "execute_result"
    }
   ],
   "source": [
    "parent.user_logout()\n"
   ]
  },
  {
   "cell_type": "code",
   "execution_count": 13,
   "id": "10f66749",
   "metadata": {},
   "outputs": [
    {
     "name": "stdout",
     "output_type": "stream",
     "text": [
      "Logging out Ravi to AngelOne...\n"
     ]
    },
    {
     "data": {
      "text/plain": [
       "'Logout Successfully'"
      ]
     },
     "execution_count": 13,
     "metadata": {},
     "output_type": "execute_result"
    }
   ],
   "source": [
    "child1.user_logout()"
   ]
  },
  {
   "cell_type": "code",
   "execution_count": 33,
   "id": "051e920a",
   "metadata": {},
   "outputs": [],
   "source": [
    "from SmartApi.smartWebSocketOrderUpdate import SmartWebSocketOrderUpdate\n",
    "\n",
    "sws = SmartWebSocketOrderUpdate(parent.auth_token,parent.api_key, parent.username, parent.feed_token)"
   ]
  },
  {
   "cell_type": "code",
   "execution_count": null,
   "id": "a574e666",
   "metadata": {},
   "outputs": [],
   "source": []
  }
 ],
 "metadata": {
  "kernelspec": {
   "display_name": "Python 3",
   "language": "python",
   "name": "python3"
  },
  "language_info": {
   "codemirror_mode": {
    "name": "ipython",
    "version": 3
   },
   "file_extension": ".py",
   "mimetype": "text/x-python",
   "name": "python",
   "nbconvert_exporter": "python",
   "pygments_lexer": "ipython3",
   "version": "3.12.3"
  }
 },
 "nbformat": 4,
 "nbformat_minor": 5
}
