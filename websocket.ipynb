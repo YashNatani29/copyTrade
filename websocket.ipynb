{
 "cells": [
  {
   "cell_type": "code",
   "execution_count": 1,
   "metadata": {},
   "outputs": [],
   "source": [
    "import asyncio\n",
    "import threading\n",
    "from SmartApi import SmartConnect #or from SmartApi.smartConnect import SmartConnect\n",
    "import pyotp\n",
    "import concurrent.futures\n",
    "from logzero import logger\n",
    "from SmartApi.smartWebSocketOrderUpdate import SmartWebSocketOrderUpdate"
   ]
  },
  {
   "cell_type": "code",
   "execution_count": 4,
   "metadata": {},
   "outputs": [],
   "source": [
    "# Replace with your actual credentials\n",
    "AUTH_TOKEN =  parent.auth_token\n",
    "API_KEY = parent.api_key\n",
    "CLIENT_CODE = parent.username\n",
    "FEED_TOKEN =  parent.feed_token"
   ]
  },
  {
   "cell_type": "code",
   "execution_count": 5,
   "metadata": {},
   "outputs": [],
   "source": [
    "# Initialize the SmartWebSocketOrderUpdate client\n",
    "client = SmartWebSocketOrderUpdate(AUTH_TOKEN, API_KEY, CLIENT_CODE, FEED_TOKEN)\n",
    "\n",
    "# Set a global flag for connection status\n",
    "is_connected = False\n",
    "\n",
    "# Define a callback function to handle incoming order updates\n",
    "def on_order_update(message, arg1, arg2, arg3):\n",
    "    print(f\"Received order update: {arg1}\")\n",
    "    # Process the message as needed\n",
    "\n",
    "# Assign the callback function to the client's on_data attribute\n",
    "client.on_data = on_order_update\n",
    "\n",
    "# Async function to handle the connection\n",
    "async def connect_to_websocket():\n",
    "    global is_connected\n",
    "    if not is_connected:\n",
    "        # Running connect in a separate thread so it doesn't block the event loop\n",
    "        loop = asyncio.get_event_loop()\n",
    "        await loop.run_in_executor(None, client.connect)\n",
    "        is_connected = True\n",
    "        print(\"WebSocket connected.\")\n",
    "    else:\n",
    "        print(\"Already connected to WebSocket\")\n",
    "\n",
    "# Function to disconnect the WebSocket\n",
    "async def disconnect_websocket():\n",
    "    global is_connected\n",
    "    if is_connected:\n",
    "         # Running close in a separate thread so it doesn't block the event loop\n",
    "        loop = asyncio.get_event_loop()\n",
    "        await loop.run_in_executor(None, client.close_connection)  # Assuming client.close() exists\n",
    "        print(\"WebSocket disconnected\")\n",
    "        is_connected = False\n",
    "    else:\n",
    "        print(\"WebSocket is not connected\")\n",
    "\n",
    "# Helper function to run async tasks within Jupyter Notebook\n",
    "def run_async_in_notebook(coro):\n",
    "    loop = asyncio.get_event_loop()\n",
    "    if loop.is_running():\n",
    "        return asyncio.create_task(coro)\n",
    "    else:\n",
    "        return loop.run_until_complete(coro)\n",
    "\n",
    "# Run the connection\n",
    "def start_websocket():\n",
    "    run_async_in_notebook(connect_to_websocket())\n",
    "\n",
    "# Stop the connection\n",
    "def stop_websocket():\n",
    "    run_async_in_notebook(disconnect_websocket())\n"
   ]
  },
  {
   "cell_type": "code",
   "execution_count": null,
   "metadata": {},
   "outputs": [],
   "source": [
    "start_websocket():"
   ]
  },
  {
   "cell_type": "code",
   "execution_count": 11,
   "metadata": {},
   "outputs": [],
   "source": [
    "stop_websocket()"
   ]
  }
 ],
 "metadata": {
  "kernelspec": {
   "display_name": "Python 3",
   "language": "python",
   "name": "python3"
  },
  "language_info": {
   "codemirror_mode": {
    "name": "ipython",
    "version": 3
   },
   "file_extension": ".py",
   "mimetype": "text/x-python",
   "name": "python",
   "nbconvert_exporter": "python",
   "pygments_lexer": "ipython3",
   "version": "3.12.3"
  }
 },
 "nbformat": 4,
 "nbformat_minor": 2
}
